# import necessary libraries for data handling, visualization, and analysis
import pandas as pd
import numpy as np
import matplotlib.pyplot as plt
import seaborn as sns
import plotly.express as px
import plotly.graph_objects as go
from ipywidgets import interact, widgets
import statsmodels.api as sm
from sklearn.model_selection import train_test_split
from sklearn.linear_model import LinearRegression
from sklearn.metrics import mean_squared_error, r2_score

#loading
try:
    emissions_data = pd.read_csv('saf_emissions_data.csv')
    print(emissions_data.head())
except FileNotFoundError:
    print("Data file not found. ensure the 'saf_emissions_data.csv' file is available in the directory.")

emissions_data.info()

# data preprocessing: handle missing values, ensure correct data types, and create any necessary transformations
# this step ensures the data is clean and ready for analysis, which is crucial for obtaining accurate insights

emissions_data.dropna(inplace=True)
emissions_data['emission_value'] = pd.to_numeric(emissions_data['emission_value'], errors='coerce')

emissions_data = pd.get_dummies(emissions_data, columns=['fuel_type', 'emission_type', 'engine_type'])

# analyze average emissions by fuel type and combustion temperature to understand how different SAF compositions affect emissions under varying conditions
mean_emissions = emissions_data.groupby(['fuel_type', 'combustion_temperature'])['emission_value'].mean().reset_index()

# bar plot to visualize average emissions by fuel type across different combustion temperatures to provide a comparison of fuel performance under operational conditions
plt.figure(figsize=(14, 8))
sns.barplot(x='fuel_type', y='emission_value', hue='combustion_temperature', data=mean_emissions, palette='viridis')
plt.title('Average Emissions by Fuel Type and Combustion Temperature')
plt.xlabel('Fuel Type')
plt.ylabel('Average Emission Value (g/km)')
plt.xticks(rotation=45)
plt.legend(title='Combustion Temperature (°C)')
plt.show()

# correlation analysis between fuel composition and various emission types to identify key drivers of emissions
# useful for understanding which molecular structures in the fuel lead to higher or lower emissions

correlation_data = emissions_data[['fuel_composition', 'emission_value', 'combustion_temperature', 'flight_altitude']]
correlation_matrix = correlation_data.corr()
plt.figure(figsize=(10, 6))
sns.heatmap(correlation_matrix, annot=True, cmap='coolwarm', linewidths=0.5)
plt.title('Correlation Matrix of Fuel Composition and Emission Variables')
plt.show()

# regression analysis to determine the impact of specific fuel compositions on emission levels, taking into account multiple variables such as combustion temperature, engine type, and flight altitude
X = emissions_data[['combustion_temperature', 'flight_altitude', 'fuel_composition']]
y = emissions_data['emission_value']

# splitting the data into training and testing sets for robust model evaluation
X_train, X_test, y_train, y_test = train_test_split(X, y, test_size=0.2, random_state=42)

# using linear regression to model the relationship
model = LinearRegression()
model.fit(X_train, y_train)
y_pred = model.predict(X_test)

#evaluate the model's performance using mean squared error and r-squared metrics to assess the quality of predictions
print(f"Mean Squared Error: {mean_squared_error(y_test, y_pred):.2f}")
print(f"R-squared: {r2_score(y_test, y_pred):.2f}")

# interactive visualization: plot emissions by fuel type for different emission types using plotly and ipywidgets to allow dynamic exploration of the data by the user
def plot_emissions(fuel_type):
    filtered_data = emissions_data[emissions_data['fuel_type_' + fuel_type] == 1]
    fig = px.bar(filtered_data, x='emission_type', y='emission_value', color='emission_type',
                 title=f'Emissions for {fuel_type}', labels={'emission_value': 'Emission Value (g/km)'})
    fig.show()

# dropdown widget for selecting fuel type
fuel_type_dropdown = widgets.Dropdown(
    options=[col.replace('fuel_type_', '') for col in emissions_data.columns if 'fuel_type_' in col],
    description='Fuel Type:',
    disabled=False,
)

# interactive output using ipywidgets to visualize emissions dynamically based on user input
interact(plot_emissions, fuel_type=fuel_type_dropdown)

# clustering analysis using k-means to identify patterns in emissions data that may indicate optimal conditions for fuel use or potential areas of concern
from sklearn.cluster import KMeans

# selecting relevant features for clustering
cluster_data = emissions_data[['emission_value', 'combustion_temperature', 'flight_altitude']]
kmeans = KMeans(n_clusters=3, random_state=42)
emissions_data['cluster'] = kmeans.fit_predict(cluster_data)

# plot clusters to visually identify patterns and insights
fig = px.scatter_3d(emissions_data, x='combustion_temperature', y='flight_altitude', z='emission_value',
                    color='cluster', symbol='cluster', title='3D Cluster Analysis of Emissions Data')
fig.show()

# analyzing specific chemical properties of SAFs and their influence on emission characteristics
# this part provides in-depth insights into molecular factors, such as aromatic content, sulfur levels, and energy density, affecting emission outputs
def plot_chemical_insights(property):
    fig = px.box(emissions_data, x=property, y='emission_value', points="all",
                 title=f'Impact of {property} on Emission Value', labels={'emission_value': 'Emission Value (g/km)'})
    fig.show()

#dropdown widget for selecting chemical property to visualize its impact on emissions
chemical_property_dropdown = widgets.Dropdown(
    options=['aromatic_content', 'sulfur_content', 'energy_density'],
    description='Chemical Property:',
    disabled=False,
)

#interactive output using ipywidgets to visualize the influence of different chemical properties dynamically
interact(plot_chemical_insights, property=chemical_property_dropdown)

"""
Program summary:
Comprehensive dashboard for analyzing sustainable aviation fuel (saf) emissions. it includes data preprocessing, visualization, advanced statistical analysis, machine learning, and interactive exploration. the program:
1. loads and cleanses complex saf emissions data.
2. visualizes key insights, including the impact of fuel type, combustion temperature, and chemical composition on emissions.
3. performs regression and clustering analyses to identify key factors driving emissions and optimal fuel use conditions.
4. incorporates interactive tools for dynamic data exploration, enhancing decision-making for nasa ames leadership by highlighting the best saf blends for environmental sustainability and performance.
"""
