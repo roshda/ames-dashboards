# import necessary libraries for data handling, visualization, and geospatial analysis
import pandas as pd
import numpy as np
import matplotlib.pyplot as plt
import seaborn as sns
import plotly.express as px
import plotly.graph_objects as go
import xarray as xr
import dask.array as da
import pyproj
from ipywidgets import interact, widgets

try:
    contrail_data = pd.read_csv('contrail_climate_impact_data.csv')
    print(contrail_data.head())
except FileNotFoundError:
    print("Data file not found. ensure the 'contrail_climate_impact_data.csv' file is available in the directory.")

# basic data inspection to understand the structure and types of variables
contrail_data.info()

# data preprocessing: clean data, handle missing values, and convert necessary columns to appropriate types
# ensure that geospatial data (latitude, longitude) is correctly formatted for geospatial analysis

contrail_data.dropna(inplace=True)
contrail_data['temperature'] = pd.to_numeric(contrail_data['temperature'], errors='coerce')
contrail_data['humidity'] = pd.to_numeric(contrail_data['humidity'], errors='coerce')

# convert fuel types and contrail metrics to dummy variables for more advanced modeling purposes
contrail_data = pd.get_dummies(contrail_data, columns=['fuel_type'])

#insights into which SAFs lead to fewer or less-persistent contrails under specific atmospheric conditions

mean_contrail_impact = contrail_data.groupby(['fuel_type', 'temperature', 'humidity'])[['contrail_coverage', 'contrail_optical_depth']].mean().reset_index()

# plot contrail coverage by fuel type across different temperature and humidity conditions
# this provides a visual comparison of contrail formation tendencies under varying atmospheric conditions and fuel types

plt.figure(figsize=(14, 8))
sns.scatterplot(x='temperature', y='contrail_coverage', hue='fuel_type', size='humidity', sizes=(20, 200), data=mean_contrail_impact, palette='coolwarm')
plt.title('Contrail Coverage by Fuel Type, Temperature, and Humidity')
plt.xlabel('Temperature (°C)')
plt.ylabel('Contrail Coverage (%)')
plt.legend(title='Fuel Type', bbox_to_anchor=(1.05, 1), loc='upper left')
plt.show()

# use xarray and dask to handle large atmospheric datasets for multi-dimensional analysis
# these libraries are efficient for handling large-scale geospatial and temporal datasets

# example: loading a large netCDF dataset with xarray for more in-depth atmospheric analysis
try:
    ds = xr.open_dataset('atmospheric_conditions.nc')
    print(ds)
except FileNotFoundError:
    print("NetCDF data file not found. ensure the 'atmospheric_conditions.nc' file is available in the directory.")

# subset the data for a specific range of altitudes and times to focus on conditions where contrails are most likely to form
# this subset will help in understanding contrail formation dynamics more specifically

ds_subset = ds.sel(flight_altitude=slice(8000, 12000), time=slice('2023-01-01', '2023-01-31'))

# calculate and visualize potential contrail coverage over different geographic regions
# use pyproj to project geographic data into an appropriate coordinate system for analysis

proj = pyproj.Proj(proj='merc', ellps='WGS84')
ds_subset['x'], ds_subset['y'] = proj(ds_subset['longitude'].values, ds_subset['latitude'].values)

# plot geospatial map of contrail formation likelihood using plotly for interactive exploration
fig = px.density_mapbox(contrail_data, lat='latitude', lon='longitude', z='contrail_coverage', radius=10,
                        center=dict(lat=0, lon=180), zoom=0,
                        mapbox_style="stamen-terrain", title='Geospatial Distribution of Contrail Formation')
fig.show()

# interactive visualization: plot contrail optical depth for different fuel types and atmospheric conditions using plotly and ipywidgets
def plot_contrail_impact(fuel_type):
    filtered_data = contrail_data[contrail_data['fuel_type_' + fuel_type] == 1]
    fig = px.scatter(filtered_data, x='temperature', y='contrail_optical_depth', color='humidity',
                     title=f'Contrail Optical Depth for {fuel_type}', labels={'contrail_optical_depth': 'Optical Depth'})
    fig.show()

# dropdown widget for selecting fuel type
fuel_type_dropdown = widgets.Dropdown(
    options=[col.replace('fuel_type_', '') for col in contrail_data.columns if 'fuel_type_' in col],
    description='Fuel Type:',
    disabled=False,
)

# interactive output using ipywidgets to visualize contrail impact dynamically based on user input
interact(plot_contrail_impact, fuel_type=fuel_type_dropdown)

# apply machine learning to predict contrail formation likelihood based on atmospheric data and fuel type
from sklearn.ensemble import RandomForestClassifier
from sklearn.metrics import classification_report

X = contrail_data[['temperature', 'humidity', 'flight_altitude', 'fuel_type_FT-SPK', 'fuel_type_HEFA-SPK']]
y = (contrail_data['contrail_coverage'] > 50).astype(int)  # binary target: 1 if contrail coverage > 50%, 0 otherwise

# split data into training and testing sets
X_train, X_test, y_train, y_test = train_test_split(X, y, test_size=0.2, random_state=42)

# train a random forest classifier to model contrail formation likelihood
rf_model = RandomForestClassifier(n_estimators=100, random_state=42)
rf_model.fit(X_train, y_train)
y_pred = rf_model.predict(X_test)

#evaluate the model performance
print(classification_report(y_test, y_pred))

# feature importance visualization to understand which variables most impact contrail formation
feature_importances = pd.Series(rf_model.feature_importances_, index=X.columns)
feature_importances.sort_values().plot(kind='barh', figsize=(10, 6), title='Feature Importances in Contrail Formation Prediction')
plt.show()

"""
Program summary:
this jupyter notebook is a dashboard for modeling contrail formation and climate impact due to different sustainable aviation fuels (safs). It integrates data from atmospheric studies and remote sensing to explore how safs influence contrail properties, including persistence and optical depth. also:
1. loads and preprocesses atmospheric data to analyze contrail formation dynamics.
2. visualizes contrail impacts using scatter plots and geospatial maps for a comprehensive view of climate effects.
3. machine learning to predict contrail likelihood based on atmospheric conditions and fuel types.
4. interactive tools to explore the influence of different saf blends and atmospheric conditions on contrail formation, supporting nasa ames in identifying optimal strategies for mitigating aviation's climate impact.
this analysis aids nasa in making data-driven decisions regarding saf usage and operational guidelines to minimize climate impact.
"""
